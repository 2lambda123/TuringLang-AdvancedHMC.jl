{
 "cells": [
  {
   "cell_type": "code",
   "execution_count": 1,
   "id": "0b189f71-e0a4-4ac3-ba2d-ac2e33d24abe",
   "metadata": {},
   "outputs": [
    {
     "name": "stdout",
     "output_type": "stream",
     "text": [
      "Julia Version 1.7.2\n",
      "Commit bf53498635 (2022-02-06 15:21 UTC)\n",
      "Platform Info:\n",
      "  OS: Linux (x86_64-pc-linux-gnu)\n",
      "  CPU: Intel(R) Xeon(R) Gold 6238R CPU @ 2.20GHz\n",
      "  WORD_SIZE: 64\n",
      "  LIBM: libopenlibm\n",
      "  LLVM: libLLVM-12.0.1 (ORCJIT, cascadelake)\n",
      "\u001b[32m\u001b[1m      Status\u001b[22m\u001b[39m `/scratches/euclid/kx216/proj/AdvancedHMC.jl/test/experimental/Project.toml`\n",
      " \u001b[90m [0bf59076] \u001b[39mAdvancedHMC v0.4.0 `../..`\n",
      " \u001b[90m [d330b81b] \u001b[39mPyPlot v2.11.0\n",
      " \u001b[90m [37e2e3b7] \u001b[39mReverseDiff v1.14.4\n",
      " \u001b[90m [8a639fad] \u001b[39mVecTargets v0.2.0 `https://github.com/xukai92/VecTargets.jl.git#main`\n"
     ]
    }
   ],
   "source": [
    "using InteractiveUtils, Pkg, Revise\n",
    "versioninfo(); Pkg.status()"
   ]
  },
  {
   "cell_type": "code",
   "execution_count": 2,
   "id": "c4eade28-5025-4c60-9337-3cdfcbd2def1",
   "metadata": {},
   "outputs": [
    {
     "name": "stderr",
     "output_type": "stream",
     "text": [
      "┌ Warning: skipping callee #step#5 (called by step) due to UndefRefError()\n",
      "└ @ LoweredCodeUtils /homes/kx216/.julia/packages/LoweredCodeUtils/0oUEK/src/signatures.jl:292\n"
     ]
    }
   ],
   "source": [
    "import PyPlot; const plt = PyPlot\n",
    "using Random, LinearAlgebra, Statistics, ReverseDiff, VecTargets, AdvancedHMC\n",
    "includet(\"../../src/experimental/riemannian_hmc.jl\")"
   ]
  },
  {
   "cell_type": "code",
   "execution_count": 3,
   "id": "54e840d9-d7fb-41bf-b1a0-4d25895cca66",
   "metadata": {},
   "outputs": [
    {
     "data": {
      "text/plain": [
       "sample_target (generic function with 1 method)"
      ]
     },
     "execution_count": 3,
     "metadata": {},
     "output_type": "execute_result"
    }
   ],
   "source": [
    "# Fisher information metric\n",
    "function gen_∂H∂x(func, x; f=identity)\n",
    "    hess = VecTargets.gen_hess(func, ReverseDiff.track.(x))\n",
    "    # QUES What's the best output format of this function?\n",
    "    return x -> ReverseDiff.jacobian(x -> f(hess(x)[3]), x) # default output shape [∂H∂x₁; ∂H∂x₂; ...]\n",
    "end\n",
    "\n",
    "function reshape_J(J)\n",
    "    d = size(J, 2)\n",
    "    return cat((J[(i-1)*d+1:i*d,:] for i in 1:d)...; dims=3)\n",
    "end\n",
    "\n",
    "function make_J(G, α)\n",
    "    d = size(G, 1)\n",
    "    λ = eigen(G).values\n",
    "    J = Matrix(undef, d, d)\n",
    "    for i in 1:d, j in 1:d\n",
    "        J[i,j] = (λ[i] == λ[j]) ? \n",
    "            (coth(α * λ[i]) + λ[i] * α * -csch(λ[i])^2) : \n",
    "            ((λ[i] * coth(α * λ[i]) - λ[j] * coth(α * λ[j])) / (λ[i] - λ[j]))\n",
    "    end\n",
    "    return J\n",
    "end\n",
    "\n",
    "function sample_target(hps; rng=MersenneTwister(1110))    \n",
    "    target = hps.target == :gaussian  ? HighDimGaussian(2) :\n",
    "             hps.target == :banana    ? Banana() :\n",
    "             hps.target == :funnel    ? Funnel() :\n",
    "             hps.target == :funnel101 ? Funnel(101) :\n",
    "             hps.target == :spiral    ? Spiral(8, 0.1) :\n",
    "             hps.target == :mogs      ? TwoDimGaussianMixtures() :\n",
    "             @error \"Unknown target $(hps.target)\"\n",
    "    D = dim(target)\n",
    "    initial_θ = rand(rng, D)\n",
    "    \n",
    "    ℓπ = x -> logpdf(target, x)\n",
    "    _∂ℓπ∂θ = gen_logpdf_grad(target, initial_θ)\n",
    "    ∂ℓπ∂θ = x -> copy.(_∂ℓπ∂θ(x))\n",
    "    \n",
    "    neg_ℓπ = x -> -logpdf(target, x)\n",
    "    _hess_func = VecTargets.gen_hess(neg_ℓπ, initial_θ) # x -> (value, gradient, hessian)\n",
    "    hess_func = x -> copy.(_hess_func(x))\n",
    "    \n",
    "    G = x -> hess_func(x)[3] + hps.λ * I\n",
    "    _∂G∂θ = gen_∂H∂x(neg_ℓπ, initial_θ)\n",
    "    ∂G∂θ = x -> reshape_J(copy(_∂G∂θ(x)))\n",
    "    \n",
    "    G_softabs = x -> softabs(hess_func(x)[3] + hps.λ * I, hps.α)\n",
    "    # NOTE The implementation below attempts to diff through the softabs function which involves eigen that is not implemented in RD\n",
    "    #_∂G∂θ_softabs = gen_∂H∂x(neg_ℓπ, initial_θ; f=(X -> softabs(X + hps.λ * I, hps.α)))\n",
    "    _∂G∂θ_softabs = gen_∂H∂x(neg_ℓπ, initial_θ)\n",
    "    ∂G∂θ_softabs = x -> make_J(G_softabs(x), hps.α) .* reshape_J(copy(_∂G∂θ_softabs(x)))\n",
    "\n",
    "    metric = hps.metric == :dense_euclidean          ? DenseEuclideanMetric(D) :\n",
    "             hps.metric == :dense_riemannian         ? DenseRiemannianMetric((D,), G, ∂G∂θ) :\n",
    "             hps.metric == :dense_riemannian_softabs ? DenseRiemannianMetric((D,), G_softabs, ∂G∂θ_softabs) :\n",
    "             @error \"Unknown metric $(hps.metric)\"\n",
    "    kinetic = GaussianKinetic()\n",
    "    hamiltonian = Hamiltonian(metric, kinetic, ℓπ, ∂ℓπ∂θ)\n",
    "\n",
    "    TS = EndPointTS\n",
    "    \n",
    "    integrator = hps.integrator == :lf  ? Leapfrog(hps.ϵ) :\n",
    "                 hps.integrator == :glf ? GeneralizedLeapfrog(hps.ϵ, hps.n) :\n",
    "                 @error \"Unknown integrator $(hps.integrator)\"\n",
    "\n",
    "    tc = FixedNSteps(hps.L)\n",
    "    \n",
    "    proposal = HMCKernel(Trajectory{TS}(integrator, tc))\n",
    "\n",
    "    samples, stats = sample(\n",
    "        rng, hamiltonian, proposal, initial_θ, hps.n_samples; progress=false, verbose=true\n",
    "    )\n",
    "    \n",
    "    return (; target, hamiltonian, samples, stats)\n",
    "end"
   ]
  },
  {
   "cell_type": "markdown",
   "id": "9108fc17-9f52-451e-8813-7ad3687ab44e",
   "metadata": {},
   "source": [
    "Baseline: HMC with dense but identity Euclidean metric"
   ]
  },
  {
   "cell_type": "code",
   "execution_count": 4,
   "id": "7532a03d-015b-4cb6-a5cc-f9182bd7e583",
   "metadata": {},
   "outputs": [
    {
     "name": "stderr",
     "output_type": "stream",
     "text": [
      "┌ Info: Finished 2000 sampling steps for 1 chains in 0.047913425 (s)\n",
      "│   h = Hamiltonian(metric=DenseEuclideanMetric(diag=[1.0, 1.0]), kinetic=GaussianKinetic())\n",
      "│   κ = HMCKernel{FullMomentumRefreshment, Trajectory{EndPointTS, Leapfrog{Float64}, FixedNSteps}}(FullMomentumRefreshment(), Trajectory{EndPointTS}(integrator=Leapfrog(ϵ=0.1), tc=FixedNSteps(8)))\n",
      "│   EBFMI_est = 1.1186237187225354\n",
      "│   average_acceptance_rate = 0.9990870349279157\n",
      "└ @ AdvancedHMC /scratches/euclid/kx216/proj/AdvancedHMC.jl/src/sampler.jl:214\n",
      "┌ Info: Samples\n",
      "│   mean(retval.samples) = [-0.059172875182715856, 0.020223117668237246]\n",
      "│   var(retval.samples) = [0.9466621835679574, 0.9267189667568049]\n",
      "└ @ Main In[4]:4\n"
     ]
    }
   ],
   "source": [
    "hps = (; target=:gaussian, n_samples=2_000, metric=:dense_euclidean, λ=1e-2, α=20.0, integrator=:lf, ϵ=0.1, n=6, L=8)\n",
    "retval = sample_target((; hps...))\n",
    "\n",
    "@info \"Samples\" mean(retval.samples) var(retval.samples)"
   ]
  },
  {
   "cell_type": "markdown",
   "id": "230a7fff-5453-43a7-b442-9c5075ecf569",
   "metadata": {},
   "source": [
    "Check if generalized leapfrog works fine"
   ]
  },
  {
   "cell_type": "code",
   "execution_count": 5,
   "id": "ce7bb278-45cc-4a9a-b0cc-ca476a36a60a",
   "metadata": {},
   "outputs": [
    {
     "name": "stderr",
     "output_type": "stream",
     "text": [
      "┌ Info: Finished 2000 sampling steps for 1 chains in 0.291051683 (s)\n",
      "│   h = Hamiltonian(metric=DenseEuclideanMetric(diag=[1.0, 1.0]), kinetic=GaussianKinetic())\n",
      "│   κ = HMCKernel{FullMomentumRefreshment, Trajectory{EndPointTS, GeneralizedLeapfrog{Float64}, FixedNSteps}}(FullMomentumRefreshment(), Trajectory{EndPointTS}(integrator=GeneralizedLeapfrog(ϵ=0.1, n=6), tc=FixedNSteps(8)))\n",
      "│   EBFMI_est = 1.1186237187225354\n",
      "│   average_acceptance_rate = 0.9990870349279157\n",
      "└ @ AdvancedHMC /scratches/euclid/kx216/proj/AdvancedHMC.jl/src/sampler.jl:214\n",
      "┌ Info: Samples\n",
      "│   mean(retval.samples) = [-0.059172875182715856, 0.020223117668237246]\n",
      "│   var(retval.samples) = [0.9466621835679574, 0.9267189667568049]\n",
      "└ @ Main In[5]:3\n"
     ]
    }
   ],
   "source": [
    "retval = sample_target((; hps..., integrator=:glf))\n",
    "\n",
    "@info \"Samples\" mean(retval.samples) var(retval.samples)"
   ]
  },
  {
   "cell_type": "markdown",
   "id": "cba6957c-94e4-438e-be4f-e225e036b812",
   "metadata": {},
   "source": [
    "Check if RHMC (with Fisher metric) works (on Gaussian)"
   ]
  },
  {
   "cell_type": "code",
   "execution_count": 6,
   "id": "ea864f92-7028-43e9-99de-1ae5149fa3dd",
   "metadata": {},
   "outputs": [
    {
     "name": "stdout",
     "output_type": "stream",
     "text": [
      "162.195323 seconds (648.17 M allocations: 26.285 GiB, 8.83% gc time, 19.29% compilation time)\n"
     ]
    },
    {
     "name": "stderr",
     "output_type": "stream",
     "text": [
      "┌ Info: Finished 2000 sampling steps for 1 chains in 141.504436783 (s)\n",
      "│   h = Hamiltonian(metric=DenseRiemannianMetric(...), kinetic=GaussianKinetic())\n",
      "│   κ = HMCKernel{FullMomentumRefreshment, Trajectory{EndPointTS, GeneralizedLeapfrog{Float64}, FixedNSteps}}(FullMomentumRefreshment(), Trajectory{EndPointTS}(integrator=GeneralizedLeapfrog(ϵ=0.1, n=6), tc=FixedNSteps(8)))\n",
      "│   EBFMI_est = 1.1194710428834218\n",
      "│   average_acceptance_rate = 0.9990997411969952\n",
      "└ @ AdvancedHMC /scratches/euclid/kx216/proj/AdvancedHMC.jl/src/sampler.jl:214\n",
      "┌ Info: Samples\n",
      "│   mean(retval.samples) = [-0.059494248703613806, 0.0203247508084654]\n",
      "│   var(retval.samples) = [0.9465345660813427, 0.9260461275621712]\n",
      "└ @ Main In[6]:3\n"
     ]
    }
   ],
   "source": [
    "@time retval = sample_target((; hps..., metric=:dense_riemannian, integrator=:glf))\n",
    "\n",
    "@info \"Samples\" mean(retval.samples) var(retval.samples)"
   ]
  },
  {
   "cell_type": "markdown",
   "id": "42e85c7e-a20f-48b4-88fa-c82c594c419f",
   "metadata": {},
   "source": [
    "Check if RHMC (with Fisher metric) works for Neal's funnel"
   ]
  },
  {
   "cell_type": "code",
   "execution_count": 7,
   "id": "598b3310-5f2b-49ae-8371-60cf914d9af4",
   "metadata": {},
   "outputs": [
    {
     "name": "stdout",
     "output_type": "stream",
     "text": [
      "193.709949 seconds (451.11 M allocations: 19.865 GiB, 4.75% gc time, 54.90% compilation time)\n"
     ]
    },
    {
     "name": "stderr",
     "output_type": "stream",
     "text": [
      "┌ Info: Average acceptance ratio\n",
      "│   mean(map((s->begin\n",
      "                #= In[7]:7 =#\n",
      "                s.is_accept\n",
      "            end), retval.stats)) = 0.0615\n",
      "└ @ Main In[7]:7\n"
     ]
    },
    {
     "data": {
      "image/png": "[encoded data removed]",
      "text/plain": [
       "PyPlot.Figure(PyObject <Figure size 640x480 with 1 Axes>)"
      ]
     },
     "execution_count": 7,
     "metadata": {},
     "output_type": "execute_result"
    }
   ],
   "source": [
    "using Logging: NullLogger, with_logger\n",
    "\n",
    "@time retval = with_logger(NullLogger()) do \n",
    "    sample_target((; hps..., target=:funnel, metric=:dense_riemannian, integrator=:glf))\n",
    "end\n",
    "\n",
    "@info \"Average acceptance ratio\" mean(map(s -> s.is_accept, retval.stats))\n",
    "\n",
    "let (fig, ax) = plt.subplots()\n",
    "    plt.close(fig)\n",
    "    \n",
    "    ax.scatter(map(s -> s[1], retval.samples), map(s -> s[2], retval.samples))\n",
    "    \n",
    "    fig\n",
    "end"
   ]
  },
  {
   "cell_type": "markdown",
   "id": "e185e260-724a-4189-8ddd-dd2f265f0c11",
   "metadata": {},
   "source": [
    "Check if RHMC with SoftAbs works for Gaussian"
   ]
  },
  {
   "cell_type": "code",
   "execution_count": 8,
   "id": "d3f07163-1855-41e3-8423-3abbc8306c95",
   "metadata": {},
   "outputs": [
    {
     "name": "stdout",
     "output_type": "stream",
     "text": [
      "102.322984 seconds (641.88 M allocations: 25.914 GiB, 9.88% gc time, 14.48% compilation time)\n"
     ]
    },
    {
     "name": "stderr",
     "output_type": "stream",
     "text": [
      "┌ Info: Finished 2000 sampling steps for 1 chains in 88.41769789 (s)\n",
      "│   h = Hamiltonian(metric=DenseRiemannianMetric(...), kinetic=GaussianKinetic())\n",
      "│   κ = HMCKernel{FullMomentumRefreshment, Trajectory{EndPointTS, GeneralizedLeapfrog{Float64}, FixedNSteps}}(FullMomentumRefreshment(), Trajectory{EndPointTS}(integrator=GeneralizedLeapfrog(ϵ=0.1, n=6), tc=FixedNSteps(8)))\n",
      "│   EBFMI_est = 1.1194710428834218\n",
      "│   average_acceptance_rate = 0.9990997411969952\n",
      "└ @ AdvancedHMC /scratches/euclid/kx216/proj/AdvancedHMC.jl/src/sampler.jl:214\n",
      "┌ Info: Samples\n",
      "│   mean(retval.samples) = [-0.059494248703613806, 0.0203247508084654]\n",
      "│   var(retval.samples) = [0.9465345660813427, 0.9260461275621712]\n",
      "└ @ Main In[8]:3\n"
     ]
    }
   ],
   "source": [
    "@time retval = sample_target((; hps..., metric=:dense_riemannian_softabs, integrator=:glf))\n",
    "\n",
    "@info \"Samples\" mean(retval.samples) var(retval.samples)"
   ]
  },
  {
   "cell_type": "markdown",
   "id": "b7479887-fca7-4102-b626-665cc97cf545",
   "metadata": {},
   "source": [
    "Check if RHMC with SoftAbs works for Neal's funnel"
   ]
  },
  {
   "cell_type": "code",
   "execution_count": 9,
   "id": "8a30d4de-62e0-4aa9-9886-2fd9b012bd61",
   "metadata": {},
   "outputs": [
    {
     "ename": "LoadError",
     "evalue": "ArgumentError: matrix contains Infs or NaNs",
     "output_type": "error",
     "traceback": [
      "ArgumentError: matrix contains Infs or NaNs",
      "",
      "Stacktrace:",
      "  [1] chkfinite",
      "    @ /scratches/euclid/kx216/appl/julia-1.7.2/share/julia/stdlib/v1.7/LinearAlgebra/src/lapack.jl:97 [inlined]",
      "  [2] geevx!(balanc::Char, jobvl::Char, jobvr::Char, sense::Char, A::Matrix{Float64})",
      "    @ LinearAlgebra.LAPACK /scratches/euclid/kx216/appl/julia-1.7.2/share/julia/stdlib/v1.7/LinearAlgebra/src/lapack.jl:2056",
      "  [3] eigen!(A::Matrix{Float64}; permute::Bool, scale::Bool, sortby::typeof(LinearAlgebra.eigsortby))",
      "    @ LinearAlgebra /scratches/euclid/kx216/appl/julia-1.7.2/share/julia/stdlib/v1.7/LinearAlgebra/src/eigen.jl:152",
      "  [4] eigen(A::Matrix{Float64}; permute::Bool, scale::Bool, sortby::typeof(LinearAlgebra.eigsortby))",
      "    @ LinearAlgebra /scratches/euclid/kx216/appl/julia-1.7.2/share/julia/stdlib/v1.7/LinearAlgebra/src/eigen.jl:237",
      "  [5] eigen",
      "    @ /scratches/euclid/kx216/appl/julia-1.7.2/share/julia/stdlib/v1.7/LinearAlgebra/src/eigen.jl:235 [inlined]",
      "  [6] softabs(X::Matrix{Float64}, α::Float64)",
      "    @ Main /scratches/euclid/kx216/proj/AdvancedHMC.jl/src/experimental/riemannian_hmc.jl:261",
      "  [7] (::var\"#23#31\"{NamedTuple{(:target, :n_samples, :metric, :λ, :α, :integrator, :ϵ, :n, :L), Tuple{Symbol, Int64, Symbol, Float64, Float64, Symbol, Float64, Int64, Int64}}, var\"#20#28\"{VecTargets.var\"#hess#4\"{DiffResults.MutableDiffResult{2, Float64, Tuple{Vector{Float64}, Matrix{Float64}}}, ReverseDiff.CompiledTape{ReverseDiff.HessianTape{var\"#19#27\"{Funnel}, ReverseDiff.TrackedArray{Float64, Float64, 1, Vector{Float64}, Vector{Float64}}, Vector{ReverseDiff.TrackedReal{Float64, Float64, ReverseDiff.TrackedArray{Float64, Float64, 1, Vector{Float64}, Vector{Float64}}}}}}}}})(x::Vector{Float64})",
      "    @ Main ./In[3]:48",
      "  [8] ∂H∂r(h::Hamiltonian{DenseRiemannianMetric{Float64, Tuple{Int64}, Vector{Float64}, var\"#23#31\"{NamedTuple{(:target, :n_samples, :metric, :λ, :α, :integrator, :ϵ, :n, :L), Tuple{Symbol, Int64, Symbol, Float64, Float64, Symbol, Float64, Int64, Int64}}, var\"#20#28\"{VecTargets.var\"#hess#4\"{DiffResults.MutableDiffResult{2, Float64, Tuple{Vector{Float64}, Matrix{Float64}}}, ReverseDiff.CompiledTape{ReverseDiff.HessianTape{var\"#19#27\"{Funnel}, ReverseDiff.TrackedArray{Float64, Float64, 1, Vector{Float64}, Vector{Float64}}, Vector{ReverseDiff.TrackedReal{Float64, Float64, ReverseDiff.TrackedArray{Float64, Float64, 1, Vector{Float64}, Vector{Float64}}}}}}}}}, var\"#24#32\"{NamedTuple{(:target, :n_samples, :metric, :λ, :α, :integrator, :ϵ, :n, :L), Tuple{Symbol, Int64, Symbol, Float64, Float64, Symbol, Float64, Int64, Int64}}, var\"#10#12\"{typeof(identity), VecTargets.var\"#hess#4\"{DiffResults.MutableDiffResult{2, ReverseDiff.TrackedReal{Float64, Float64, Nothing}, Tuple{Vector{ReverseDiff.TrackedReal{Float64, Float64, Nothing}}, Matrix{ReverseDiff.TrackedReal{Float64, Float64, Nothing}}}}, ReverseDiff.CompiledTape{ReverseDiff.HessianTape{var\"#19#27\"{Funnel}, ReverseDiff.TrackedArray{ReverseDiff.TrackedReal{Float64, Float64, Nothing}, ReverseDiff.TrackedReal{Float64, Float64, Nothing}, 1, Vector{ReverseDiff.TrackedReal{Float64, Float64, Nothing}}, Vector{ReverseDiff.TrackedReal{Float64, Float64, Nothing}}}, Vector{ReverseDiff.TrackedReal{ReverseDiff.TrackedReal{Float64, Float64, Nothing}, ReverseDiff.TrackedReal{Float64, Float64, Nothing}, ReverseDiff.TrackedArray{ReverseDiff.TrackedReal{Float64, Float64, Nothing}, ReverseDiff.TrackedReal{Float64, Float64, Nothing}, 1, Vector{ReverseDiff.TrackedReal{Float64, Float64, Nothing}}, Vector{ReverseDiff.TrackedReal{Float64, Float64, Nothing}}}}}}}}}, var\"#23#31\"{NamedTuple{(:target, :n_samples, :metric, :λ, :α, :integrator, :ϵ, :n, :L), Tuple{Symbol, Int64, Symbol, Float64, Float64, Symbol, Float64, Int64, Int64}}, var\"#20#28\"{VecTargets.var\"#hess#4\"{DiffResults.MutableDiffResult{2, Float64, Tuple{Vector{Float64}, Matrix{Float64}}}, ReverseDiff.CompiledTape{ReverseDiff.HessianTape{var\"#19#27\"{Funnel}, ReverseDiff.TrackedArray{Float64, Float64, 1, Vector{Float64}, Vector{Float64}}, Vector{ReverseDiff.TrackedReal{Float64, Float64, ReverseDiff.TrackedArray{Float64, Float64, 1, Vector{Float64}, Vector{Float64}}}}}}}}}}}, GaussianKinetic, var\"#17#25\"{Funnel}, var\"#18#26\"{VecTargets.var\"#grad#1\"{DiffResults.MutableDiffResult{1, Float64, Tuple{Vector{Float64}}}, ReverseDiff.CompiledTape{ReverseDiff.GradientTape{VecTargets.var\"#13#14\"{Funnel}, ReverseDiff.TrackedArray{Float64, Float64, 1, Vector{Float64}, Vector{Float64}}, ReverseDiff.TrackedReal{Float64, Float64, ReverseDiff.TrackedArray{Float64, Float64, 1, Vector{Float64}, Vector{Float64}}}}}}}}, θ::Vector{Float64}, r::Vector{Float64})",
      "    @ Main /scratches/euclid/kx216/proj/AdvancedHMC.jl/src/experimental/riemannian_hmc.jl:234",
      "  [9] step(lf::GeneralizedLeapfrog{Float64}, h::Hamiltonian{DenseRiemannianMetric{Float64, Tuple{Int64}, Vector{Float64}, var\"#23#31\"{NamedTuple{(:target, :n_samples, :metric, :λ, :α, :integrator, :ϵ, :n, :L), Tuple{Symbol, Int64, Symbol, Float64, Float64, Symbol, Float64, Int64, Int64}}, var\"#20#28\"{VecTargets.var\"#hess#4\"{DiffResults.MutableDiffResult{2, Float64, Tuple{Vector{Float64}, Matrix{Float64}}}, ReverseDiff.CompiledTape{ReverseDiff.HessianTape{var\"#19#27\"{Funnel}, ReverseDiff.TrackedArray{Float64, Float64, 1, Vector{Float64}, Vector{Float64}}, Vector{ReverseDiff.TrackedReal{Float64, Float64, ReverseDiff.TrackedArray{Float64, Float64, 1, Vector{Float64}, Vector{Float64}}}}}}}}}, var\"#24#32\"{NamedTuple{(:target, :n_samples, :metric, :λ, :α, :integrator, :ϵ, :n, :L), Tuple{Symbol, Int64, Symbol, Float64, Float64, Symbol, Float64, Int64, Int64}}, var\"#10#12\"{typeof(identity), VecTargets.var\"#hess#4\"{DiffResults.MutableDiffResult{2, ReverseDiff.TrackedReal{Float64, Float64, Nothing}, Tuple{Vector{ReverseDiff.TrackedReal{Float64, Float64, Nothing}}, Matrix{ReverseDiff.TrackedReal{Float64, Float64, Nothing}}}}, ReverseDiff.CompiledTape{ReverseDiff.HessianTape{var\"#19#27\"{Funnel}, ReverseDiff.TrackedArray{ReverseDiff.TrackedReal{Float64, Float64, Nothing}, ReverseDiff.TrackedReal{Float64, Float64, Nothing}, 1, Vector{ReverseDiff.TrackedReal{Float64, Float64, Nothing}}, Vector{ReverseDiff.TrackedReal{Float64, Float64, Nothing}}}, Vector{ReverseDiff.TrackedReal{ReverseDiff.TrackedReal{Float64, Float64, Nothing}, ReverseDiff.TrackedReal{Float64, Float64, Nothing}, ReverseDiff.TrackedArray{ReverseDiff.TrackedReal{Float64, Float64, Nothing}, ReverseDiff.TrackedReal{Float64, Float64, Nothing}, 1, Vector{ReverseDiff.TrackedReal{Float64, Float64, Nothing}}, Vector{ReverseDiff.TrackedReal{Float64, Float64, Nothing}}}}}}}}}, var\"#23#31\"{NamedTuple{(:target, :n_samples, :metric, :λ, :α, :integrator, :ϵ, :n, :L), Tuple{Symbol, Int64, Symbol, Float64, Float64, Symbol, Float64, Int64, Int64}}, var\"#20#28\"{VecTargets.var\"#hess#4\"{DiffResults.MutableDiffResult{2, Float64, Tuple{Vector{Float64}, Matrix{Float64}}}, ReverseDiff.CompiledTape{ReverseDiff.HessianTape{var\"#19#27\"{Funnel}, ReverseDiff.TrackedArray{Float64, Float64, 1, Vector{Float64}, Vector{Float64}}, Vector{ReverseDiff.TrackedReal{Float64, Float64, ReverseDiff.TrackedArray{Float64, Float64, 1, Vector{Float64}, Vector{Float64}}}}}}}}}}}, GaussianKinetic, var\"#17#25\"{Funnel}, var\"#18#26\"{VecTargets.var\"#grad#1\"{DiffResults.MutableDiffResult{1, Float64, Tuple{Vector{Float64}}}, ReverseDiff.CompiledTape{ReverseDiff.GradientTape{VecTargets.var\"#13#14\"{Funnel}, ReverseDiff.TrackedArray{Float64, Float64, 1, Vector{Float64}, Vector{Float64}}, ReverseDiff.TrackedReal{Float64, Float64, ReverseDiff.TrackedArray{Float64, Float64, 1, Vector{Float64}, Vector{Float64}}}}}}}}, z::PhasePoint{Vector{Float64}, DualValue{Float64, Vector{Float64}}}, n_steps::Int64; fwd::Bool, full_trajectory::Val{false})",
      "    @ Main /scratches/euclid/kx216/proj/AdvancedHMC.jl/src/experimental/riemannian_hmc.jl:62",
      " [10] step",
      "    @ /scratches/euclid/kx216/proj/AdvancedHMC.jl/src/experimental/riemannian_hmc.jl:32 [inlined]",
      " [11] sample_phasepoint(rng::MersenneTwister, τ::Trajectory{EndPointTS, GeneralizedLeapfrog{Float64}, FixedNSteps}, h::Hamiltonian{DenseRiemannianMetric{Float64, Tuple{Int64}, Vector{Float64}, var\"#23#31\"{NamedTuple{(:target, :n_samples, :metric, :λ, :α, :integrator, :ϵ, :n, :L), Tuple{Symbol, Int64, Symbol, Float64, Float64, Symbol, Float64, Int64, Int64}}, var\"#20#28\"{VecTargets.var\"#hess#4\"{DiffResults.MutableDiffResult{2, Float64, Tuple{Vector{Float64}, Matrix{Float64}}}, ReverseDiff.CompiledTape{ReverseDiff.HessianTape{var\"#19#27\"{Funnel}, ReverseDiff.TrackedArray{Float64, Float64, 1, Vector{Float64}, Vector{Float64}}, Vector{ReverseDiff.TrackedReal{Float64, Float64, ReverseDiff.TrackedArray{Float64, Float64, 1, Vector{Float64}, Vector{Float64}}}}}}}}}, var\"#24#32\"{NamedTuple{(:target, :n_samples, :metric, :λ, :α, :integrator, :ϵ, :n, :L), Tuple{Symbol, Int64, Symbol, Float64, Float64, Symbol, Float64, Int64, Int64}}, var\"#10#12\"{typeof(identity), VecTargets.var\"#hess#4\"{DiffResults.MutableDiffResult{2, ReverseDiff.TrackedReal{Float64, Float64, Nothing}, Tuple{Vector{ReverseDiff.TrackedReal{Float64, Float64, Nothing}}, Matrix{ReverseDiff.TrackedReal{Float64, Float64, Nothing}}}}, ReverseDiff.CompiledTape{ReverseDiff.HessianTape{var\"#19#27\"{Funnel}, ReverseDiff.TrackedArray{ReverseDiff.TrackedReal{Float64, Float64, Nothing}, ReverseDiff.TrackedReal{Float64, Float64, Nothing}, 1, Vector{ReverseDiff.TrackedReal{Float64, Float64, Nothing}}, Vector{ReverseDiff.TrackedReal{Float64, Float64, Nothing}}}, Vector{ReverseDiff.TrackedReal{ReverseDiff.TrackedReal{Float64, Float64, Nothing}, ReverseDiff.TrackedReal{Float64, Float64, Nothing}, ReverseDiff.TrackedArray{ReverseDiff.TrackedReal{Float64, Float64, Nothing}, ReverseDiff.TrackedReal{Float64, Float64, Nothing}, 1, Vector{ReverseDiff.TrackedReal{Float64, Float64, Nothing}}, Vector{ReverseDiff.TrackedReal{Float64, Float64, Nothing}}}}}}}}}, var\"#23#31\"{NamedTuple{(:target, :n_samples, :metric, :λ, :α, :integrator, :ϵ, :n, :L), Tuple{Symbol, Int64, Symbol, Float64, Float64, Symbol, Float64, Int64, Int64}}, var\"#20#28\"{VecTargets.var\"#hess#4\"{DiffResults.MutableDiffResult{2, Float64, Tuple{Vector{Float64}, Matrix{Float64}}}, ReverseDiff.CompiledTape{ReverseDiff.HessianTape{var\"#19#27\"{Funnel}, ReverseDiff.TrackedArray{Float64, Float64, 1, Vector{Float64}, Vector{Float64}}, Vector{ReverseDiff.TrackedReal{Float64, Float64, ReverseDiff.TrackedArray{Float64, Float64, 1, Vector{Float64}, Vector{Float64}}}}}}}}}}}, GaussianKinetic, var\"#17#25\"{Funnel}, var\"#18#26\"{VecTargets.var\"#grad#1\"{DiffResults.MutableDiffResult{1, Float64, Tuple{Vector{Float64}}}, ReverseDiff.CompiledTape{ReverseDiff.GradientTape{VecTargets.var\"#13#14\"{Funnel}, ReverseDiff.TrackedArray{Float64, Float64, 1, Vector{Float64}, Vector{Float64}}, ReverseDiff.TrackedReal{Float64, Float64, ReverseDiff.TrackedArray{Float64, Float64, 1, Vector{Float64}, Vector{Float64}}}}}}}}, z::PhasePoint{Vector{Float64}, DualValue{Float64, Vector{Float64}}})",
      "    @ AdvancedHMC /scratches/euclid/kx216/proj/AdvancedHMC.jl/src/trajectory.jl:300",
      " [12] transition(rng::MersenneTwister, τ::Trajectory{EndPointTS, GeneralizedLeapfrog{Float64}, FixedNSteps}, h::Hamiltonian{DenseRiemannianMetric{Float64, Tuple{Int64}, Vector{Float64}, var\"#23#31\"{NamedTuple{(:target, :n_samples, :metric, :λ, :α, :integrator, :ϵ, :n, :L), Tuple{Symbol, Int64, Symbol, Float64, Float64, Symbol, Float64, Int64, Int64}}, var\"#20#28\"{VecTargets.var\"#hess#4\"{DiffResults.MutableDiffResult{2, Float64, Tuple{Vector{Float64}, Matrix{Float64}}}, ReverseDiff.CompiledTape{ReverseDiff.HessianTape{var\"#19#27\"{Funnel}, ReverseDiff.TrackedArray{Float64, Float64, 1, Vector{Float64}, Vector{Float64}}, Vector{ReverseDiff.TrackedReal{Float64, Float64, ReverseDiff.TrackedArray{Float64, Float64, 1, Vector{Float64}, Vector{Float64}}}}}}}}}, var\"#24#32\"{NamedTuple{(:target, :n_samples, :metric, :λ, :α, :integrator, :ϵ, :n, :L), Tuple{Symbol, Int64, Symbol, Float64, Float64, Symbol, Float64, Int64, Int64}}, var\"#10#12\"{typeof(identity), VecTargets.var\"#hess#4\"{DiffResults.MutableDiffResult{2, ReverseDiff.TrackedReal{Float64, Float64, Nothing}, Tuple{Vector{ReverseDiff.TrackedReal{Float64, Float64, Nothing}}, Matrix{ReverseDiff.TrackedReal{Float64, Float64, Nothing}}}}, ReverseDiff.CompiledTape{ReverseDiff.HessianTape{var\"#19#27\"{Funnel}, ReverseDiff.TrackedArray{ReverseDiff.TrackedReal{Float64, Float64, Nothing}, ReverseDiff.TrackedReal{Float64, Float64, Nothing}, 1, Vector{ReverseDiff.TrackedReal{Float64, Float64, Nothing}}, Vector{ReverseDiff.TrackedReal{Float64, Float64, Nothing}}}, Vector{ReverseDiff.TrackedReal{ReverseDiff.TrackedReal{Float64, Float64, Nothing}, ReverseDiff.TrackedReal{Float64, Float64, Nothing}, ReverseDiff.TrackedArray{ReverseDiff.TrackedReal{Float64, Float64, Nothing}, ReverseDiff.TrackedReal{Float64, Float64, Nothing}, 1, Vector{ReverseDiff.TrackedReal{Float64, Float64, Nothing}}, Vector{ReverseDiff.TrackedReal{Float64, Float64, Nothing}}}}}}}}}, var\"#23#31\"{NamedTuple{(:target, :n_samples, :metric, :λ, :α, :integrator, :ϵ, :n, :L), Tuple{Symbol, Int64, Symbol, Float64, Float64, Symbol, Float64, Int64, Int64}}, var\"#20#28\"{VecTargets.var\"#hess#4\"{DiffResults.MutableDiffResult{2, Float64, Tuple{Vector{Float64}, Matrix{Float64}}}, ReverseDiff.CompiledTape{ReverseDiff.HessianTape{var\"#19#27\"{Funnel}, ReverseDiff.TrackedArray{Float64, Float64, 1, Vector{Float64}, Vector{Float64}}, Vector{ReverseDiff.TrackedReal{Float64, Float64, ReverseDiff.TrackedArray{Float64, Float64, 1, Vector{Float64}, Vector{Float64}}}}}}}}}}}, GaussianKinetic, var\"#17#25\"{Funnel}, var\"#18#26\"{VecTargets.var\"#grad#1\"{DiffResults.MutableDiffResult{1, Float64, Tuple{Vector{Float64}}}, ReverseDiff.CompiledTape{ReverseDiff.GradientTape{VecTargets.var\"#13#14\"{Funnel}, ReverseDiff.TrackedArray{Float64, Float64, 1, Vector{Float64}, Vector{Float64}}, ReverseDiff.TrackedReal{Float64, Float64, ReverseDiff.TrackedArray{Float64, Float64, 1, Vector{Float64}, Vector{Float64}}}}}}}}, z::PhasePoint{Vector{Float64}, DualValue{Float64, Vector{Float64}}})",
      "    @ AdvancedHMC /scratches/euclid/kx216/proj/AdvancedHMC.jl/src/trajectory.jl:246",
      " [13] transition",
      "    @ /scratches/euclid/kx216/proj/AdvancedHMC.jl/src/sampler.jl:57 [inlined]",
      " [14] macro expansion",
      "    @ /scratches/euclid/kx216/proj/AdvancedHMC.jl/src/sampler.jl:178 [inlined]",
      " [15] macro expansion",
      "    @ ./timing.jl:299 [inlined]",
      " [16] sample(rng::MersenneTwister, h::Hamiltonian{DenseRiemannianMetric{Float64, Tuple{Int64}, Vector{Float64}, var\"#23#31\"{NamedTuple{(:target, :n_samples, :metric, :λ, :α, :integrator, :ϵ, :n, :L), Tuple{Symbol, Int64, Symbol, Float64, Float64, Symbol, Float64, Int64, Int64}}, var\"#20#28\"{VecTargets.var\"#hess#4\"{DiffResults.MutableDiffResult{2, Float64, Tuple{Vector{Float64}, Matrix{Float64}}}, ReverseDiff.CompiledTape{ReverseDiff.HessianTape{var\"#19#27\"{Funnel}, ReverseDiff.TrackedArray{Float64, Float64, 1, Vector{Float64}, Vector{Float64}}, Vector{ReverseDiff.TrackedReal{Float64, Float64, ReverseDiff.TrackedArray{Float64, Float64, 1, Vector{Float64}, Vector{Float64}}}}}}}}}, var\"#24#32\"{NamedTuple{(:target, :n_samples, :metric, :λ, :α, :integrator, :ϵ, :n, :L), Tuple{Symbol, Int64, Symbol, Float64, Float64, Symbol, Float64, Int64, Int64}}, var\"#10#12\"{typeof(identity), VecTargets.var\"#hess#4\"{DiffResults.MutableDiffResult{2, ReverseDiff.TrackedReal{Float64, Float64, Nothing}, Tuple{Vector{ReverseDiff.TrackedReal{Float64, Float64, Nothing}}, Matrix{ReverseDiff.TrackedReal{Float64, Float64, Nothing}}}}, ReverseDiff.CompiledTape{ReverseDiff.HessianTape{var\"#19#27\"{Funnel}, ReverseDiff.TrackedArray{ReverseDiff.TrackedReal{Float64, Float64, Nothing}, ReverseDiff.TrackedReal{Float64, Float64, Nothing}, 1, Vector{ReverseDiff.TrackedReal{Float64, Float64, Nothing}}, Vector{ReverseDiff.TrackedReal{Float64, Float64, Nothing}}}, Vector{ReverseDiff.TrackedReal{ReverseDiff.TrackedReal{Float64, Float64, Nothing}, ReverseDiff.TrackedReal{Float64, Float64, Nothing}, ReverseDiff.TrackedArray{ReverseDiff.TrackedReal{Float64, Float64, Nothing}, ReverseDiff.TrackedReal{Float64, Float64, Nothing}, 1, Vector{ReverseDiff.TrackedReal{Float64, Float64, Nothing}}, Vector{ReverseDiff.TrackedReal{Float64, Float64, Nothing}}}}}}}}}, var\"#23#31\"{NamedTuple{(:target, :n_samples, :metric, :λ, :α, :integrator, :ϵ, :n, :L), Tuple{Symbol, Int64, Symbol, Float64, Float64, Symbol, Float64, Int64, Int64}}, var\"#20#28\"{VecTargets.var\"#hess#4\"{DiffResults.MutableDiffResult{2, Float64, Tuple{Vector{Float64}, Matrix{Float64}}}, ReverseDiff.CompiledTape{ReverseDiff.HessianTape{var\"#19#27\"{Funnel}, ReverseDiff.TrackedArray{Float64, Float64, 1, Vector{Float64}, Vector{Float64}}, Vector{ReverseDiff.TrackedReal{Float64, Float64, ReverseDiff.TrackedArray{Float64, Float64, 1, Vector{Float64}, Vector{Float64}}}}}}}}}}}, GaussianKinetic, var\"#17#25\"{Funnel}, var\"#18#26\"{VecTargets.var\"#grad#1\"{DiffResults.MutableDiffResult{1, Float64, Tuple{Vector{Float64}}}, ReverseDiff.CompiledTape{ReverseDiff.GradientTape{VecTargets.var\"#13#14\"{Funnel}, ReverseDiff.TrackedArray{Float64, Float64, 1, Vector{Float64}, Vector{Float64}}, ReverseDiff.TrackedReal{Float64, Float64, ReverseDiff.TrackedArray{Float64, Float64, 1, Vector{Float64}, Vector{Float64}}}}}}}}, κ::HMCKernel{FullMomentumRefreshment, Trajectory{EndPointTS, GeneralizedLeapfrog{Float64}, FixedNSteps}}, θ::Vector{Float64}, n_samples::Int64, adaptor::AdvancedHMC.Adaptation.NoAdaptation, n_adapts::Int64; drop_warmup::Bool, verbose::Bool, progress::Bool, pm_next!::typeof(AdvancedHMC.pm_next!))",
      "    @ AdvancedHMC /scratches/euclid/kx216/proj/AdvancedHMC.jl/src/sampler.jl:176",
      " [17] sample_target(hps::NamedTuple{(:target, :n_samples, :metric, :λ, :α, :integrator, :ϵ, :n, :L), Tuple{Symbol, Int64, Symbol, Float64, Float64, Symbol, Float64, Int64, Int64}}; rng::MersenneTwister)",
      "    @ Main ./In[3]:71",
      " [18] sample_target(hps::NamedTuple{(:target, :n_samples, :metric, :λ, :α, :integrator, :ϵ, :n, :L), Tuple{Symbol, Int64, Symbol, Float64, Float64, Symbol, Float64, Int64, Int64}})",
      "    @ Main ./In[3]:26",
      " [19] (::var\"#41#42\")()",
      "    @ Main ./In[9]:2",
      " [20] with_logstate(f::Function, logstate::Any)",
      "    @ Base.CoreLogging ./logging.jl:511",
      " [21] with_logger(f::Function, logger::Base.CoreLogging.NullLogger)",
      "    @ Base.CoreLogging ./logging.jl:623",
      " [22] top-level scope",
      "    @ timing.jl:220",
      " [23] eval",
      "    @ ./boot.jl:373 [inlined]",
      " [24] include_string(mapexpr::typeof(REPL.softscope), mod::Module, code::String, filename::String)",
      "    @ Base ./loading.jl:1196"
     ]
    }
   ],
   "source": [
    "@time retval = with_logger(NullLogger()) do \n",
    "    sample_target((; hps..., target=:funnel, metric=:dense_riemannian_softabs, integrator=:glf))\n",
    "end\n",
    "\n",
    "@info \"Average acceptance ratio\" mean(map(s -> s.is_accept, retval.stats))\n",
    "\n",
    "let (fig, ax) = plt.subplots()\n",
    "    plt.close(fig)\n",
    "    \n",
    "    ax.scatter(map(s -> s[1], retval.samples), map(s -> s[2], retval.samples))\n",
    "    \n",
    "    fig\n",
    "end"
   ]
  },
  {
   "cell_type": "code",
   "execution_count": null,
   "id": "bf957b78-19a1-473c-8f12-79d747b02f12",
   "metadata": {},
   "outputs": [],
   "source": []
  }
 ],
 "metadata": {
  "kernelspec": {
   "display_name": "Julia 1.7.2",
   "language": "julia",
   "name": "julia-1.7"
  },
  "language_info": {
   "file_extension": ".jl",
   "mimetype": "application/julia",
   "name": "julia",
   "version": "1.7.2"
  }
 },
 "nbformat": 4,
 "nbformat_minor": 5
}
