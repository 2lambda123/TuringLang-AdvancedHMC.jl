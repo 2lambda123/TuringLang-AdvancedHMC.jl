{
 "cells": [
  {
   "cell_type": "code",
   "execution_count": 1,
   "id": "0b189f71-e0a4-4ac3-ba2d-ac2e33d24abe",
   "metadata": {},
   "outputs": [
    {
     "name": "stdout",
     "output_type": "stream",
     "text": [
      "Julia Version 1.7.2\n",
      "Commit bf53498635 (2022-02-06 15:21 UTC)\n",
      "Platform Info:\n",
      "  OS: Linux (x86_64-pc-linux-gnu)\n",
      "  CPU: Intel(R) Xeon(R) Gold 6238R CPU @ 2.20GHz\n",
      "  WORD_SIZE: 64\n",
      "  LIBM: libopenlibm\n",
      "  LLVM: libLLVM-12.0.1 (ORCJIT, cascadelake)\n",
      "\u001b[32m\u001b[1m      Status\u001b[22m\u001b[39m `/scratches/euclid/kx216/proj/AdvancedHMC.jl/test/experimental/Project.toml`\n",
      " \u001b[90m [0bf59076] \u001b[39mAdvancedHMC v0.4.0 `../..`\n",
      " \u001b[90m [d330b81b] \u001b[39mPyPlot v2.11.0\n",
      " \u001b[90m [37e2e3b7] \u001b[39mReverseDiff v1.14.4\n",
      " \u001b[90m [8a639fad] \u001b[39mVecTargets v0.2.0 `https://github.com/xukai92/VecTargets.jl.git#main`\n"
     ]
    }
   ],
   "source": [
    "using InteractiveUtils, Pkg, Revise\n",
    "versioninfo(); Pkg.status()"
   ]
  },
  {
   "cell_type": "code",
   "execution_count": 2,
   "id": "c4eade28-5025-4c60-9337-3cdfcbd2def1",
   "metadata": {},
   "outputs": [
    {
     "name": "stderr",
     "output_type": "stream",
     "text": [
      "┌ Warning: skipping callee #step#7 (called by step) due to UndefRefError()\n",
      "└ @ LoweredCodeUtils /homes/kx216/.julia/packages/LoweredCodeUtils/0oUEK/src/signatures.jl:292\n"
     ]
    }
   ],
   "source": [
    "import PyPlot; const plt = PyPlot\n",
    "using Random, LinearAlgebra, Statistics, ReverseDiff, VecTargets, AdvancedHMC\n",
    "includet(\"../../src/experimental/riemannian_hmc.jl\")"
   ]
  },
  {
   "cell_type": "code",
   "execution_count": 3,
   "id": "54e840d9-d7fb-41bf-b1a0-4d25895cca66",
   "metadata": {},
   "outputs": [
    {
     "data": {
      "text/plain": [
       "sample_target (generic function with 1 method)"
      ]
     },
     "execution_count": 3,
     "metadata": {},
     "output_type": "execute_result"
    }
   ],
   "source": [
    "# Fisher information metric\n",
    "function gen_∂H∂x(func, x; f=identity)\n",
    "    hess = VecTargets.gen_hess(func, ReverseDiff.track.(x))\n",
    "    # QUES What's the best output format of this function?\n",
    "    return x -> ReverseDiff.jacobian(x -> f(hess(x)[3]), x) # default output shape [∂H∂x₁; ∂H∂x₂; ...]\n",
    "end\n",
    "\n",
    "function reshape_H(H)\n",
    "    d = size(H, 2)\n",
    "    return cat((H[(i-1)*d+1:i*d,:] for i in 1:d)...; dims=3)\n",
    "end\n",
    "\n",
    "function sample_target(hps; rng=MersenneTwister(1110))    \n",
    "    target = hps.target == :gaussian  ? HighDimGaussian(2) :\n",
    "             hps.target == :banana    ? Banana() :\n",
    "             hps.target == :funnel    ? Funnel() :\n",
    "             hps.target == :funnel101 ? Funnel(101) :\n",
    "             hps.target == :spiral    ? Spiral(8, 0.1) :\n",
    "             hps.target == :mogs      ? TwoDimGaussianMixtures() :\n",
    "             @error \"Unknown target $(hps.target)\"\n",
    "    D = dim(target)\n",
    "    initial_θ = rand(rng, D)\n",
    "    \n",
    "    ℓπ = x -> logpdf(target, x)\n",
    "    _∂ℓπ∂θ = gen_logpdf_grad(target, initial_θ)\n",
    "    ∂ℓπ∂θ = x -> copy.(_∂ℓπ∂θ(x))\n",
    "    \n",
    "    neg_ℓπ = x -> -logpdf(target, x)\n",
    "    _hess_func = VecTargets.gen_hess(neg_ℓπ, initial_θ) # x -> (value, gradient, hessian)\n",
    "    hess_func = x -> copy.(_hess_func(x))\n",
    "    \n",
    "    G = x -> begin\n",
    "        H = hess_func(x)[3] + hps.λ * I\n",
    "        any(.!(isfinite.(H))) ? diagm(ones(length(x))) : H\n",
    "    end\n",
    "    _∂G∂θ = gen_∂H∂x(neg_ℓπ, initial_θ)\n",
    "    ∂G∂θ = x -> reshape_H(copy(_∂G∂θ(x)))\n",
    "\n",
    "    metric = hps.metric == :dense_euclidean          ? DenseEuclideanMetric(D) :\n",
    "             hps.metric == :dense_riemannian         ? DenseRiemannianMetric((D,), G, ∂G∂θ) :\n",
    "             hps.metric == :dense_riemannian_softabs ? DenseRiemannianMetric((D,), G, ∂G∂θ, SoftAbsMap(hps.α)) :\n",
    "             @error \"Unknown metric $(hps.metric)\"\n",
    "    kinetic = GaussianKinetic()\n",
    "    hamiltonian = Hamiltonian(metric, kinetic, ℓπ, ∂ℓπ∂θ)\n",
    "\n",
    "    TS = EndPointTS\n",
    "    \n",
    "    integrator = hps.integrator == :lf  ? Leapfrog(hps.ϵ) :\n",
    "                 hps.integrator == :glf ? GeneralizedLeapfrog(hps.ϵ, hps.n) :\n",
    "                 @error \"Unknown integrator $(hps.integrator)\"\n",
    "\n",
    "    tc = FixedNSteps(hps.L)\n",
    "    \n",
    "    proposal = HMCKernel(Trajectory{TS}(integrator, tc))\n",
    "\n",
    "    samples, stats = sample(\n",
    "        rng, hamiltonian, proposal, initial_θ, hps.n_samples; progress=false, verbose=true\n",
    "    )\n",
    "    \n",
    "    return (; target, hamiltonian, samples, stats)\n",
    "end"
   ]
  },
  {
   "cell_type": "markdown",
   "id": "9108fc17-9f52-451e-8813-7ad3687ab44e",
   "metadata": {},
   "source": [
    "Baseline: HMC with dense but identity Euclidean metric"
   ]
  },
  {
   "cell_type": "code",
   "execution_count": 4,
   "id": "7532a03d-015b-4cb6-a5cc-f9182bd7e583",
   "metadata": {},
   "outputs": [
    {
     "name": "stderr",
     "output_type": "stream",
     "text": [
      "┌ Info: Finished 2000 sampling steps for 1 chains in 0.047168153 (s)\n",
      "│   h = Hamiltonian(metric=DenseEuclideanMetric(diag=[1.0, 1.0]), kinetic=GaussianKinetic())\n",
      "│   κ = HMCKernel{FullMomentumRefreshment, Trajectory{EndPointTS, Leapfrog{Float64}, FixedNSteps}}(FullMomentumRefreshment(), Trajectory{EndPointTS}(integrator=Leapfrog(ϵ=0.1), tc=FixedNSteps(8)))\n",
      "│   EBFMI_est = 1.1186237187225354\n",
      "│   average_acceptance_rate = 0.9990870349279157\n",
      "└ @ AdvancedHMC /scratches/euclid/kx216/proj/AdvancedHMC.jl/src/sampler.jl:214\n",
      "┌ Info: Samples\n",
      "│   mean(retval.samples) = [-0.059172875182715856, 0.020223117668237246]\n",
      "│   var(retval.samples) = [0.9466621835679574, 0.9267189667568049]\n",
      "└ @ Main In[4]:4\n"
     ]
    }
   ],
   "source": [
    "hps = (; target=:gaussian, n_samples=2_000, metric=:dense_euclidean, λ=1e-2, α=20.0, integrator=:lf, ϵ=0.1, n=6, L=8)\n",
    "retval = sample_target((; hps...))\n",
    "\n",
    "@info \"Samples\" mean(retval.samples) var(retval.samples)"
   ]
  },
  {
   "cell_type": "markdown",
   "id": "230a7fff-5453-43a7-b442-9c5075ecf569",
   "metadata": {},
   "source": [
    "Check if generalized leapfrog works fine"
   ]
  },
  {
   "cell_type": "code",
   "execution_count": 5,
   "id": "ce7bb278-45cc-4a9a-b0cc-ca476a36a60a",
   "metadata": {},
   "outputs": [
    {
     "name": "stderr",
     "output_type": "stream",
     "text": [
      "┌ Info: Finished 2000 sampling steps for 1 chains in 0.120654782 (s)\n",
      "│   h = Hamiltonian(metric=DenseEuclideanMetric(diag=[1.0, 1.0]), kinetic=GaussianKinetic())\n",
      "│   κ = HMCKernel{FullMomentumRefreshment, Trajectory{EndPointTS, GeneralizedLeapfrog{Float64}, FixedNSteps}}(FullMomentumRefreshment(), Trajectory{EndPointTS}(integrator=GeneralizedLeapfrog(ϵ=0.1, n=6), tc=FixedNSteps(8)))\n",
      "│   EBFMI_est = 1.1186237187225354\n",
      "│   average_acceptance_rate = 0.9990870349279157\n",
      "└ @ AdvancedHMC /scratches/euclid/kx216/proj/AdvancedHMC.jl/src/sampler.jl:214\n",
      "┌ Info: Samples\n",
      "│   mean(retval.samples) = [-0.059172875182715856, 0.020223117668237246]\n",
      "│   var(retval.samples) = [0.9466621835679574, 0.9267189667568049]\n",
      "└ @ Main In[5]:3\n"
     ]
    }
   ],
   "source": [
    "retval = sample_target((; hps..., integrator=:glf))\n",
    "\n",
    "@info \"Samples\" mean(retval.samples) var(retval.samples)"
   ]
  },
  {
   "cell_type": "markdown",
   "id": "cba6957c-94e4-438e-be4f-e225e036b812",
   "metadata": {},
   "source": [
    "Check if RHMC (with Fisher metric) works (on Gaussian)"
   ]
  },
  {
   "cell_type": "code",
   "execution_count": 6,
   "id": "ea864f92-7028-43e9-99de-1ae5149fa3dd",
   "metadata": {},
   "outputs": [
    {
     "name": "stdout",
     "output_type": "stream",
     "text": [
      " 61.040825 seconds (650.40 M allocations: 26.406 GiB, 9.85% gc time, 18.95% compilation time)\n"
     ]
    },
    {
     "name": "stderr",
     "output_type": "stream",
     "text": [
      "┌ Info: Finished 2000 sampling steps for 1 chains in 53.313988365 (s)\n",
      "│   h = Hamiltonian(metric=DenseRiemannianMetric(...), kinetic=GaussianKinetic())\n",
      "│   κ = HMCKernel{FullMomentumRefreshment, Trajectory{EndPointTS, GeneralizedLeapfrog{Float64}, FixedNSteps}}(FullMomentumRefreshment(), Trajectory{EndPointTS}(integrator=GeneralizedLeapfrog(ϵ=0.1, n=6), tc=FixedNSteps(8)))\n",
      "│   EBFMI_est = 1.1194710428834218\n",
      "│   average_acceptance_rate = 0.9990997411969952\n",
      "└ @ AdvancedHMC /scratches/euclid/kx216/proj/AdvancedHMC.jl/src/sampler.jl:214\n",
      "┌ Info: Samples\n",
      "│   mean(retval.samples) = [-0.059494248703613806, 0.0203247508084654]\n",
      "│   var(retval.samples) = [0.9465345660813427, 0.9260461275621712]\n",
      "└ @ Main In[6]:3\n"
     ]
    }
   ],
   "source": [
    "@time retval = sample_target((; hps..., metric=:dense_riemannian, integrator=:glf))\n",
    "\n",
    "@info \"Samples\" mean(retval.samples) var(retval.samples)"
   ]
  },
  {
   "cell_type": "markdown",
   "id": "42e85c7e-a20f-48b4-88fa-c82c594c419f",
   "metadata": {},
   "source": [
    "Check if RHMC (with Fisher metric) works for Neal's funnel"
   ]
  },
  {
   "cell_type": "code",
   "execution_count": 7,
   "id": "598b3310-5f2b-49ae-8371-60cf914d9af4",
   "metadata": {},
   "outputs": [
    {
     "ename": "LoadError",
     "evalue": "PosDefException: matrix is not positive definite; Cholesky factorization failed.",
     "output_type": "error",
     "traceback": [
      "PosDefException: matrix is not positive definite; Cholesky factorization failed.",
      "",
      "Stacktrace:",
      "  [1] checkpositivedefinite",
      "    @ /scratches/euclid/kx216/appl/julia-1.7.2/share/julia/stdlib/v1.7/LinearAlgebra/src/factorization.jl:18 [inlined]",
      "  [2] cholesky!(A::Symmetric{Float64, Matrix{Float64}}, ::Val{false}; check::Bool)",
      "    @ LinearAlgebra /scratches/euclid/kx216/appl/julia-1.7.2/share/julia/stdlib/v1.7/LinearAlgebra/src/cholesky.jl:266",
      "  [3] #cholesky#143",
      "    @ /scratches/euclid/kx216/appl/julia-1.7.2/share/julia/stdlib/v1.7/LinearAlgebra/src/cholesky.jl:394 [inlined]",
      "  [4] cholesky (repeats 2 times)",
      "    @ /scratches/euclid/kx216/appl/julia-1.7.2/share/julia/stdlib/v1.7/LinearAlgebra/src/cholesky.jl:394 [inlined]",
      "  [5] _rand(rng::MersenneTwister, metric::DenseRiemannianMetric{Float64, IdentityMap, Tuple{Int64}, Vector{Float64}, var\"#25#31\"{NamedTuple{(:target, :n_samples, :metric, :λ, :α, :integrator, :ϵ, :n, :L), Tuple{Symbol, Int64, Symbol, Float64, Float64, Symbol, Float64, Int64, Int64}}, var\"#24#30\"{VecTargets.var\"#hess#4\"{DiffResults.MutableDiffResult{2, Float64, Tuple{Vector{Float64}, Matrix{Float64}}}, ReverseDiff.CompiledTape{ReverseDiff.HessianTape{var\"#23#29\"{Funnel}, ReverseDiff.TrackedArray{Float64, Float64, 1, Vector{Float64}, Vector{Float64}}, Vector{ReverseDiff.TrackedReal{Float64, Float64, ReverseDiff.TrackedArray{Float64, Float64, 1, Vector{Float64}, Vector{Float64}}}}}}}}}, var\"#26#32\"{var\"#14#16\"{typeof(identity), VecTargets.var\"#hess#4\"{DiffResults.MutableDiffResult{2, ReverseDiff.TrackedReal{Float64, Float64, Nothing}, Tuple{Vector{ReverseDiff.TrackedReal{Float64, Float64, Nothing}}, Matrix{ReverseDiff.TrackedReal{Float64, Float64, Nothing}}}}, ReverseDiff.CompiledTape{ReverseDiff.HessianTape{var\"#23#29\"{Funnel}, ReverseDiff.TrackedArray{ReverseDiff.TrackedReal{Float64, Float64, Nothing}, ReverseDiff.TrackedReal{Float64, Float64, Nothing}, 1, Vector{ReverseDiff.TrackedReal{Float64, Float64, Nothing}}, Vector{ReverseDiff.TrackedReal{Float64, Float64, Nothing}}}, Vector{ReverseDiff.TrackedReal{ReverseDiff.TrackedReal{Float64, Float64, Nothing}, ReverseDiff.TrackedReal{Float64, Float64, Nothing}, ReverseDiff.TrackedArray{ReverseDiff.TrackedReal{Float64, Float64, Nothing}, ReverseDiff.TrackedReal{Float64, Float64, Nothing}, 1, Vector{ReverseDiff.TrackedReal{Float64, Float64, Nothing}}, Vector{ReverseDiff.TrackedReal{Float64, Float64, Nothing}}}}}}}}}}}, kinetic::GaussianKinetic, θ::Vector{Float64})",
      "    @ Main /scratches/euclid/kx216/proj/AdvancedHMC.jl/src/experimental/riemannian_hmc.jl:196",
      "  [6] rand",
      "    @ /scratches/euclid/kx216/proj/AdvancedHMC.jl/src/experimental/riemannian_hmc.jl:218 [inlined]",
      "  [7] refresh(rng::MersenneTwister, #unused#::FullMomentumRefreshment, h::Hamiltonian{DenseRiemannianMetric{Float64, IdentityMap, Tuple{Int64}, Vector{Float64}, var\"#25#31\"{NamedTuple{(:target, :n_samples, :metric, :λ, :α, :integrator, :ϵ, :n, :L), Tuple{Symbol, Int64, Symbol, Float64, Float64, Symbol, Float64, Int64, Int64}}, var\"#24#30\"{VecTargets.var\"#hess#4\"{DiffResults.MutableDiffResult{2, Float64, Tuple{Vector{Float64}, Matrix{Float64}}}, ReverseDiff.CompiledTape{ReverseDiff.HessianTape{var\"#23#29\"{Funnel}, ReverseDiff.TrackedArray{Float64, Float64, 1, Vector{Float64}, Vector{Float64}}, Vector{ReverseDiff.TrackedReal{Float64, Float64, ReverseDiff.TrackedArray{Float64, Float64, 1, Vector{Float64}, Vector{Float64}}}}}}}}}, var\"#26#32\"{var\"#14#16\"{typeof(identity), VecTargets.var\"#hess#4\"{DiffResults.MutableDiffResult{2, ReverseDiff.TrackedReal{Float64, Float64, Nothing}, Tuple{Vector{ReverseDiff.TrackedReal{Float64, Float64, Nothing}}, Matrix{ReverseDiff.TrackedReal{Float64, Float64, Nothing}}}}, ReverseDiff.CompiledTape{ReverseDiff.HessianTape{var\"#23#29\"{Funnel}, ReverseDiff.TrackedArray{ReverseDiff.TrackedReal{Float64, Float64, Nothing}, ReverseDiff.TrackedReal{Float64, Float64, Nothing}, 1, Vector{ReverseDiff.TrackedReal{Float64, Float64, Nothing}}, Vector{ReverseDiff.TrackedReal{Float64, Float64, Nothing}}}, Vector{ReverseDiff.TrackedReal{ReverseDiff.TrackedReal{Float64, Float64, Nothing}, ReverseDiff.TrackedReal{Float64, Float64, Nothing}, ReverseDiff.TrackedArray{ReverseDiff.TrackedReal{Float64, Float64, Nothing}, ReverseDiff.TrackedReal{Float64, Float64, Nothing}, 1, Vector{ReverseDiff.TrackedReal{Float64, Float64, Nothing}}, Vector{ReverseDiff.TrackedReal{Float64, Float64, Nothing}}}}}}}}}}}, GaussianKinetic, var\"#21#27\"{Funnel}, var\"#22#28\"{VecTargets.var\"#grad#1\"{DiffResults.MutableDiffResult{1, Float64, Tuple{Vector{Float64}}}, ReverseDiff.CompiledTape{ReverseDiff.GradientTape{VecTargets.var\"#13#14\"{Funnel}, ReverseDiff.TrackedArray{Float64, Float64, 1, Vector{Float64}, Vector{Float64}}, ReverseDiff.TrackedReal{Float64, Float64, ReverseDiff.TrackedArray{Float64, Float64, 1, Vector{Float64}, Vector{Float64}}}}}}}}, z::PhasePoint{Vector{Float64}, DualValue{Float64, Vector{Float64}}})",
      "    @ Main /scratches/euclid/kx216/proj/AdvancedHMC.jl/src/experimental/riemannian_hmc.jl:112",
      "  [8] transition",
      "    @ /scratches/euclid/kx216/proj/AdvancedHMC.jl/src/sampler.jl:56 [inlined]",
      "  [9] macro expansion",
      "    @ /scratches/euclid/kx216/proj/AdvancedHMC.jl/src/sampler.jl:178 [inlined]",
      " [10] macro expansion",
      "    @ ./timing.jl:299 [inlined]",
      " [11] sample(rng::MersenneTwister, h::Hamiltonian{DenseRiemannianMetric{Float64, IdentityMap, Tuple{Int64}, Vector{Float64}, var\"#25#31\"{NamedTuple{(:target, :n_samples, :metric, :λ, :α, :integrator, :ϵ, :n, :L), Tuple{Symbol, Int64, Symbol, Float64, Float64, Symbol, Float64, Int64, Int64}}, var\"#24#30\"{VecTargets.var\"#hess#4\"{DiffResults.MutableDiffResult{2, Float64, Tuple{Vector{Float64}, Matrix{Float64}}}, ReverseDiff.CompiledTape{ReverseDiff.HessianTape{var\"#23#29\"{Funnel}, ReverseDiff.TrackedArray{Float64, Float64, 1, Vector{Float64}, Vector{Float64}}, Vector{ReverseDiff.TrackedReal{Float64, Float64, ReverseDiff.TrackedArray{Float64, Float64, 1, Vector{Float64}, Vector{Float64}}}}}}}}}, var\"#26#32\"{var\"#14#16\"{typeof(identity), VecTargets.var\"#hess#4\"{DiffResults.MutableDiffResult{2, ReverseDiff.TrackedReal{Float64, Float64, Nothing}, Tuple{Vector{ReverseDiff.TrackedReal{Float64, Float64, Nothing}}, Matrix{ReverseDiff.TrackedReal{Float64, Float64, Nothing}}}}, ReverseDiff.CompiledTape{ReverseDiff.HessianTape{var\"#23#29\"{Funnel}, ReverseDiff.TrackedArray{ReverseDiff.TrackedReal{Float64, Float64, Nothing}, ReverseDiff.TrackedReal{Float64, Float64, Nothing}, 1, Vector{ReverseDiff.TrackedReal{Float64, Float64, Nothing}}, Vector{ReverseDiff.TrackedReal{Float64, Float64, Nothing}}}, Vector{ReverseDiff.TrackedReal{ReverseDiff.TrackedReal{Float64, Float64, Nothing}, ReverseDiff.TrackedReal{Float64, Float64, Nothing}, ReverseDiff.TrackedArray{ReverseDiff.TrackedReal{Float64, Float64, Nothing}, ReverseDiff.TrackedReal{Float64, Float64, Nothing}, 1, Vector{ReverseDiff.TrackedReal{Float64, Float64, Nothing}}, Vector{ReverseDiff.TrackedReal{Float64, Float64, Nothing}}}}}}}}}}}, GaussianKinetic, var\"#21#27\"{Funnel}, var\"#22#28\"{VecTargets.var\"#grad#1\"{DiffResults.MutableDiffResult{1, Float64, Tuple{Vector{Float64}}}, ReverseDiff.CompiledTape{ReverseDiff.GradientTape{VecTargets.var\"#13#14\"{Funnel}, ReverseDiff.TrackedArray{Float64, Float64, 1, Vector{Float64}, Vector{Float64}}, ReverseDiff.TrackedReal{Float64, Float64, ReverseDiff.TrackedArray{Float64, Float64, 1, Vector{Float64}, Vector{Float64}}}}}}}}, κ::HMCKernel{FullMomentumRefreshment, Trajectory{EndPointTS, GeneralizedLeapfrog{Float64}, FixedNSteps}}, θ::Vector{Float64}, n_samples::Int64, adaptor::AdvancedHMC.Adaptation.NoAdaptation, n_adapts::Int64; drop_warmup::Bool, verbose::Bool, progress::Bool, pm_next!::typeof(AdvancedHMC.pm_next!))",
      "    @ AdvancedHMC /scratches/euclid/kx216/proj/AdvancedHMC.jl/src/sampler.jl:176",
      " [12] sample_target(hps::NamedTuple{(:target, :n_samples, :metric, :λ, :α, :integrator, :ϵ, :n, :L), Tuple{Symbol, Int64, Symbol, Float64, Float64, Symbol, Float64, Int64, Int64}}; rng::MersenneTwister)",
      "    @ Main ./In[3]:56",
      " [13] sample_target(hps::NamedTuple{(:target, :n_samples, :metric, :λ, :α, :integrator, :ϵ, :n, :L), Tuple{Symbol, Int64, Symbol, Float64, Float64, Symbol, Float64, Int64, Int64}})",
      "    @ Main ./In[3]:14",
      " [14] (::var\"#33#34\")()",
      "    @ Main ./In[7]:4",
      " [15] with_logstate(f::Function, logstate::Any)",
      "    @ Base.CoreLogging ./logging.jl:511",
      " [16] with_logger(f::Function, logger::Base.CoreLogging.NullLogger)",
      "    @ Base.CoreLogging ./logging.jl:623",
      " [17] top-level scope",
      "    @ timing.jl:220",
      " [18] eval",
      "    @ ./boot.jl:373 [inlined]",
      " [19] include_string(mapexpr::typeof(REPL.softscope), mod::Module, code::String, filename::String)",
      "    @ Base ./loading.jl:1196"
     ]
    }
   ],
   "source": [
    "using Logging: NullLogger, with_logger\n",
    "\n",
    "@time retval = with_logger(NullLogger()) do \n",
    "    sample_target((; hps..., target=:funnel, metric=:dense_riemannian, integrator=:glf))\n",
    "end\n",
    "\n",
    "@info \"Average acceptance ratio\" mean(map(s -> s.is_accept, retval.stats))\n",
    "\n",
    "let (fig, ax) = plt.subplots()\n",
    "    plt.close(fig)\n",
    "    \n",
    "    ax.scatter(map(s -> s[1], retval.samples), map(s -> s[2], retval.samples))\n",
    "    \n",
    "    fig\n",
    "end"
   ]
  },
  {
   "cell_type": "markdown",
   "id": "e185e260-724a-4189-8ddd-dd2f265f0c11",
   "metadata": {},
   "source": [
    "Check if RHMC with SoftAbs works for Gaussian"
   ]
  },
  {
   "cell_type": "code",
   "execution_count": 8,
   "id": "d3f07163-1855-41e3-8423-3abbc8306c95",
   "metadata": {},
   "outputs": [
    {
     "name": "stdout",
     "output_type": "stream",
     "text": [
      " 53.750917 seconds (639.06 M allocations: 25.841 GiB, 10.63% gc time, 12.79% compilation time)\n"
     ]
    },
    {
     "name": "stderr",
     "output_type": "stream",
     "text": [
      "┌ Info: Finished 2000 sampling steps for 1 chains in 47.200712859 (s)\n",
      "│   h = Hamiltonian(metric=DenseRiemannianMetric(...), kinetic=GaussianKinetic())\n",
      "│   κ = HMCKernel{FullMomentumRefreshment, Trajectory{EndPointTS, GeneralizedLeapfrog{Float64}, FixedNSteps}}(FullMomentumRefreshment(), Trajectory{EndPointTS}(integrator=GeneralizedLeapfrog(ϵ=0.1, n=6), tc=FixedNSteps(8)))\n",
      "│   EBFMI_est = 1.1194710428834218\n",
      "│   average_acceptance_rate = 0.9990997411969952\n",
      "└ @ AdvancedHMC /scratches/euclid/kx216/proj/AdvancedHMC.jl/src/sampler.jl:214\n",
      "┌ Info: Samples\n",
      "│   mean(retval.samples) = [-0.059494248703613806, 0.0203247508084654]\n",
      "│   var(retval.samples) = [0.9465345660813427, 0.9260461275621712]\n",
      "└ @ Main In[8]:3\n"
     ]
    }
   ],
   "source": [
    "@time retval = sample_target((; hps..., metric=:dense_riemannian_softabs, integrator=:glf))\n",
    "\n",
    "@info \"Samples\" mean(retval.samples) var(retval.samples)"
   ]
  },
  {
   "cell_type": "markdown",
   "id": "b7479887-fca7-4102-b626-665cc97cf545",
   "metadata": {},
   "source": [
    "Check if RHMC with SoftAbs works for Neal's funnel"
   ]
  },
  {
   "cell_type": "code",
   "execution_count": 9,
   "id": "8a30d4de-62e0-4aa9-9886-2fd9b012bd61",
   "metadata": {},
   "outputs": [
    {
     "name": "stdout",
     "output_type": "stream",
     "text": [
      "155.619224 seconds (1.46 G allocations: 57.909 GiB, 7.56% gc time, 2.82% compilation time)\n"
     ]
    },
    {
     "name": "stderr",
     "output_type": "stream",
     "text": [
      "┌ Info: Average acceptance ratio\n",
      "│   mean(map((s->begin\n",
      "                #= In[9]:5 =#\n",
      "                s.is_accept\n",
      "            end), retval.stats)) = 0.5805\n",
      "└ @ Main In[9]:5\n"
     ]
    },
    {
     "data": {
      "image/png": "[encoded data removed]",
      "text/plain": [
       "PyPlot.Figure(PyObject <Figure size 640x480 with 1 Axes>)"
      ]
     },
     "execution_count": 9,
     "metadata": {},
     "output_type": "execute_result"
    }
   ],
   "source": [
    "@time retval = with_logger(NullLogger()) do \n",
    "    sample_target((; hps..., target=:funnel, metric=:dense_riemannian_softabs, integrator=:glf)) # ϵ=0.1\n",
    "end\n",
    "\n",
    "@info \"Average acceptance ratio\" mean(map(s -> s.is_accept, retval.stats))\n",
    "\n",
    "let (fig, ax) = plt.subplots()\n",
    "    plt.close(fig)\n",
    "    \n",
    "    ax.scatter(map(s -> s[1], retval.samples), map(s -> s[2], retval.samples))\n",
    "    \n",
    "    fig\n",
    "end"
   ]
  },
  {
   "cell_type": "code",
   "execution_count": null,
   "id": "78261bc9-d002-4860-a023-48df9001d75d",
   "metadata": {},
   "outputs": [],
   "source": [
    "@time retval = with_logger(NullLogger()) do \n",
    "    sample_target((; hps..., target=:funnel, metric=:dense_riemannian_softabs, integrator=:glf, ϵ=0.05))\n",
    "end\n",
    "\n",
    "@info \"Average acceptance ratio\" mean(map(s -> s.is_accept, retval.stats))\n",
    "\n",
    "let (fig, ax) = plt.subplots()\n",
    "    plt.close(fig)\n",
    "    \n",
    "    ax.scatter(map(s -> s[1], retval.samples), map(s -> s[2], retval.samples))\n",
    "    \n",
    "    fig\n",
    "end"
   ]
  },
  {
   "cell_type": "code",
   "execution_count": null,
   "id": "1ae863b9-689b-4560-8ce6-018cacbf412b",
   "metadata": {},
   "outputs": [],
   "source": [
    "@time retval = with_logger(NullLogger()) do \n",
    "    sample_target((; hps..., target=:funnel, metric=:dense_riemannian_softabs, integrator=:glf, ϵ=0.02))\n",
    "end\n",
    "\n",
    "@info \"Average acceptance ratio\" mean(map(s -> s.is_accept, retval.stats))\n",
    "\n",
    "let (fig, ax) = plt.subplots()\n",
    "    plt.close(fig)\n",
    "    \n",
    "    ax.scatter(map(s -> s[1], retval.samples), map(s -> s[2], retval.samples))\n",
    "    \n",
    "    fig\n",
    "end"
   ]
  },
  {
   "cell_type": "markdown",
   "id": "f2b0ef6d-3905-41bc-ac98-c2fd31ee6818",
   "metadata": {},
   "source": [
    "Check if the Hessian is (semi)-PD for Neal's funnel"
   ]
  },
  {
   "cell_type": "code",
   "execution_count": null,
   "id": "6eab0723-d777-4b10-a59d-0de1f9ad6536",
   "metadata": {},
   "outputs": [],
   "source": [
    "using LinearAlgebra: issuccess\n",
    "\n",
    "isposdef_pivot(A) = issuccess(cholesky(A, Val(true), check=false))\n",
    "\n",
    "# Check which region gives non-positive definite for Neal's funnel\n",
    "let target = Funnel(), \n",
    "    rng = MersenneTwister(1110), \n",
    "    λ = 0.0\n",
    "    \n",
    "    D = dim(target)\n",
    "    initial_θ = rand(rng, D)\n",
    "    neg_ℓπ = x -> -logpdf(target, x)\n",
    "    hess_func = VecTargets.gen_hess(neg_ℓπ, initial_θ)\n",
    "    \n",
    "    is = -6:0.1:+2\n",
    "    js = -4:0.1:+4\n",
    "    X = Matrix{Float64}(undef, length(is), length(js))\n",
    "    Y = Matrix{Float64}(undef, length(is), length(js))\n",
    "    logdensity = Matrix{Float64}(undef, length(is), length(js))\n",
    "    PD = Matrix{Bool}(undef, length(is), length(js))\n",
    "    for (i, iv) in enumerate(is), (j, jv) in enumerate(js)\n",
    "        v, _, H = hess_func([iv, jv])\n",
    "        X[i,j] = iv\n",
    "        Y[i,j] = jv\n",
    "        logdensity[i,j] = exp(-v)\n",
    "        # PD[i,j] = isposdef(H + λ * I)\n",
    "        PD[i,j] = isposdef_pivot(H + λ * I)\n",
    "    end\n",
    "    \n",
    "    PDvec = vec(PD)\n",
    "    fig, ax = plt.subplots(figsize=(6, 6)); plt.close(fig)\n",
    "    ax.contour(X, Y, logdensity, alpha=0.7)\n",
    "    ax.scatter(vec(X)[PDvec.==0], vec(Y)[PDvec.==0], marker=\".\", c=\"C0\", alpha=0.7, label=\"non-PD\")\n",
    "    ax.scatter(vec(X)[PDvec.==1], vec(Y)[PDvec.==1], marker=\".\", c=\"C1\", alpha=0.7, label=\"PD\")\n",
    "    ax.axis(\"equal\")\n",
    "    ax.legend(loc=\"lower right\")\n",
    "    \n",
    "    fig\n",
    "end"
   ]
  }
 ],
 "metadata": {
  "kernelspec": {
   "display_name": "Julia 1.7.2",
   "language": "julia",
   "name": "julia-1.7"
  },
  "language_info": {
   "file_extension": ".jl",
   "mimetype": "application/julia",
   "name": "julia",
   "version": "1.7.2"
  }
 },
 "nbformat": 4,
 "nbformat_minor": 5
}
